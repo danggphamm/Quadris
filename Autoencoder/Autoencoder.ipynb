{
  "nbformat": 4,
  "nbformat_minor": 0,
  "metadata": {
    "colab": {
      "name": "PA2.ipynb",
      "provenance": [],
      "collapsed_sections": []
    },
    "kernelspec": {
      "name": "python3",
      "display_name": "Python 3"
    },
    "language_info": {
      "name": "python"
    },
    "accelerator": "GPU"
  },
  "cells": [
    {
      "cell_type": "code",
      "execution_count": 26,
      "metadata": {
        "id": "-1cYo86J51Y4"
      },
      "outputs": [],
      "source": [
        "import tensorflow as tf\n",
        "from tensorflow import keras\n",
        "import numpy as np\n",
        "import matplotlib.pyplot as plt\n",
        "\n",
        "# Set random seeds\n",
        "tf.random.set_seed(10)\n",
        "np.random.seed(10)\n",
        "\n",
        "# Split dataset into X_train_full, y_train_full, X_valid, y_valid\n",
        "(X_train_full, y_train_full), (X_valid, y_valid) = keras.datasets.fashion_mnist.load_data()"
      ]
    },
    {
      "cell_type": "code",
      "source": [
        "X_train_full = X_train_full.astype(np.float32) / 255\n",
        "X_valid = X_valid.astype(np.float32) / 255"
      ],
      "metadata": {
        "id": "-_jOGAkG6hTL"
      },
      "execution_count": 27,
      "outputs": []
    },
    {
      "cell_type": "code",
      "source": [
        "# Split x_train_full and y_train_full into X_train_1, X_train_2, y_train_1, y_train_2\n",
        "X_train_1, X_train_2 = X_train_full[:-1000], X_train_full[-1000:]\n",
        "y_train_1, y_train_2 = y_train_full[:-1000], y_train_full[-1000:]"
      ],
      "metadata": {
        "id": "RY1HOkZz7R2C"
      },
      "execution_count": 28,
      "outputs": []
    },
    {
      "cell_type": "code",
      "source": [
        "# Sizes\n",
        "print(len(X_train_full))\n",
        "print(len(y_train_full))\n",
        "print(len(X_valid))\n",
        "print(len(y_valid))\n",
        "\n",
        "print(len(X_train_1))\n",
        "print(len(X_train_2))\n",
        "print(len(y_train_1))\n",
        "print(len(y_train_2))"
      ],
      "metadata": {
        "colab": {
          "base_uri": "https://localhost:8080/",
          "height": 0
        },
        "id": "01mF8vKu7rlm",
        "outputId": "54d838e6-cb13-45d3-f6ab-1fca61b6d2c5"
      },
      "execution_count": 29,
      "outputs": [
        {
          "output_type": "stream",
          "name": "stdout",
          "text": [
            "60000\n",
            "60000\n",
            "10000\n",
            "10000\n",
            "59000\n",
            "1000\n",
            "59000\n",
            "1000\n"
          ]
        }
      ]
    },
    {
      "cell_type": "code",
      "source": [
        "# Display some samples from training dataset on a 6x8 grid\n",
        "plt.figure(figsize=(6,8))\n",
        "plt.grid()\n",
        "plt.imshow(X_train_full[0], cmap=\"binary\")\n",
        "plt.show()"
      ],
      "metadata": {
        "colab": {
          "base_uri": "https://localhost:8080/",
          "height": 383
        },
        "id": "Em7w9BtU9ZjA",
        "outputId": "da12af7c-1fb3-4556-b49a-ee14804f1f92"
      },
      "execution_count": 42,
      "outputs": [
        {
          "output_type": "display_data",
          "data": {
            "text/plain": [
              "<Figure size 432x576 with 1 Axes>"
            ],
            "image/png": "[encoded data removed]"
          },
          "metadata": {
            "needs_background": "light"
          }
        }
      ]
    },
    {
      "cell_type": "code",
      "source": [
        "# Display some samples from training dataset on a 6x8 grid\n",
        "plt.figure(figsize=(6,8))\n",
        "plt.grid()\n",
        "plt.imshow(X_train_full[1], cmap=\"binary\")\n",
        "plt.show()"
      ],
      "metadata": {
        "colab": {
          "base_uri": "https://localhost:8080/",
          "height": 383
        },
        "id": "A4HqLUMuLU_j",
        "outputId": "a3f0951f-e48f-4891-83ec-e55089ddd9c8"
      },
      "execution_count": 43,
      "outputs": [
        {
          "output_type": "display_data",
          "data": {
            "text/plain": [
              "<Figure size 432x576 with 1 Axes>"
            ],
            "image/png": "[encoded data removed]"
          },
          "metadata": {
            "needs_background": "light"
          }
        }
      ]
    },
    {
      "cell_type": "code",
      "source": [
        "# Encoder\n",
        "denoising_encoder = keras.models.Sequential([\n",
        "    keras.layers.Flatten(input_shape=[28, 28]),\n",
        "    keras.layers.GaussianNoise(0.2),           # stddev = 0.2\n",
        "    keras.layers.Dense(100, activation=\"selu\"),\n",
        "    keras.layers.Dense(30, activation=\"selu\")\n",
        "])\n",
        "\n",
        "# Decoder\n",
        "denoising_decoder = keras.models.Sequential([\n",
        "    keras.layers.Dense(100, activation=\"selu\", input_shape=[30]),\n",
        "    keras.layers.Dense(28 * 28, activation=\"sigmoid\"),\n",
        "    keras.layers.Reshape([28, 28])\n",
        "])\n",
        "\n",
        "# Autoencoder\n",
        "denoising_ae = keras.models.Sequential([denoising_encoder, denoising_decoder])\n",
        "\n",
        "# Compile\n",
        "denoising_ae.compile(loss=\"binary_crossentropy\", optimizer=keras.optimizers.SGD(lr=1.0),\n",
        "                     metrics=\"accuracy\")\n",
        "\n",
        "# Fit\n",
        "history = denoising_ae.fit(X_train_1, X_train_1, epochs=20,\n",
        "                           validation_data=(X_valid, X_valid))"
      ],
      "metadata": {
        "colab": {
          "base_uri": "https://localhost:8080/",
          "height": 0
        },
        "id": "QE2pCMpu_w84",
        "outputId": "9f0681cc-d2dc-45b0-99c8-598e694b3d03"
      },
      "execution_count": 31,
      "outputs": [
        {
          "output_type": "stream",
          "name": "stderr",
          "text": [
            "/usr/local/lib/python3.7/dist-packages/keras/optimizer_v2/gradient_descent.py:102: UserWarning: The `lr` argument is deprecated, use `learning_rate` instead.\n",
            "  super(SGD, self).__init__(name, **kwargs)\n"
          ]
        },
        {
          "output_type": "stream",
          "name": "stdout",
          "text": [
            "Epoch 1/20\n",
            "1844/1844 [==============================] - 9s 4ms/step - loss: 0.3451 - accuracy: 0.0794 - val_loss: 0.3219 - val_accuracy: 0.0954\n",
            "Epoch 2/20\n",
            "1844/1844 [==============================] - 9s 5ms/step - loss: 0.3106 - accuracy: 0.0958 - val_loss: 0.3061 - val_accuracy: 0.0999\n",
            "Epoch 3/20\n",
            "1844/1844 [==============================] - 10s 5ms/step - loss: 0.3036 - accuracy: 0.1045 - val_loss: 0.3018 - val_accuracy: 0.1066\n",
            "Epoch 4/20\n",
            "1844/1844 [==============================] - 10s 5ms/step - loss: 0.2997 - accuracy: 0.1116 - val_loss: 0.2974 - val_accuracy: 0.1214\n",
            "Epoch 5/20\n",
            "1844/1844 [==============================] - 8s 5ms/step - loss: 0.2967 - accuracy: 0.1182 - val_loss: 0.2946 - val_accuracy: 0.1230\n",
            "Epoch 6/20\n",
            "1844/1844 [==============================] - 9s 5ms/step - loss: 0.2945 - accuracy: 0.1247 - val_loss: 0.2933 - val_accuracy: 0.1271\n",
            "Epoch 7/20\n",
            "1844/1844 [==============================] - 8s 5ms/step - loss: 0.2927 - accuracy: 0.1289 - val_loss: 0.2911 - val_accuracy: 0.1333\n",
            "Epoch 8/20\n",
            "1844/1844 [==============================] - 9s 5ms/step - loss: 0.2914 - accuracy: 0.1328 - val_loss: 0.2897 - val_accuracy: 0.1377\n",
            "Epoch 9/20\n",
            "1844/1844 [==============================] - 9s 5ms/step - loss: 0.2904 - accuracy: 0.1358 - val_loss: 0.2886 - val_accuracy: 0.1420\n",
            "Epoch 10/20\n",
            "1844/1844 [==============================] - 9s 5ms/step - loss: 0.2895 - accuracy: 0.1392 - val_loss: 0.2882 - val_accuracy: 0.1434\n",
            "Epoch 11/20\n",
            "1844/1844 [==============================] - 10s 6ms/step - loss: 0.2888 - accuracy: 0.1415 - val_loss: 0.2877 - val_accuracy: 0.1437\n",
            "Epoch 12/20\n",
            "1844/1844 [==============================] - 9s 5ms/step - loss: 0.2881 - accuracy: 0.1443 - val_loss: 0.2866 - val_accuracy: 0.1523\n",
            "Epoch 13/20\n",
            "1844/1844 [==============================] - 9s 5ms/step - loss: 0.2876 - accuracy: 0.1464 - val_loss: 0.2867 - val_accuracy: 0.1482\n",
            "Epoch 14/20\n",
            "1844/1844 [==============================] - 9s 5ms/step - loss: 0.2870 - accuracy: 0.1487 - val_loss: 0.2857 - val_accuracy: 0.1541\n",
            "Epoch 15/20\n",
            "1844/1844 [==============================] - 10s 5ms/step - loss: 0.2865 - accuracy: 0.1511 - val_loss: 0.2858 - val_accuracy: 0.1517\n",
            "Epoch 16/20\n",
            "1844/1844 [==============================] - 8s 5ms/step - loss: 0.2861 - accuracy: 0.1527 - val_loss: 0.2847 - val_accuracy: 0.1603\n",
            "Epoch 17/20\n",
            "1844/1844 [==============================] - 9s 5ms/step - loss: 0.2857 - accuracy: 0.1540 - val_loss: 0.2847 - val_accuracy: 0.1558\n",
            "Epoch 18/20\n",
            "1844/1844 [==============================] - 9s 5ms/step - loss: 0.2853 - accuracy: 0.1552 - val_loss: 0.2848 - val_accuracy: 0.1544\n",
            "Epoch 19/20\n",
            "1844/1844 [==============================] - 10s 5ms/step - loss: 0.2850 - accuracy: 0.1568 - val_loss: 0.2840 - val_accuracy: 0.1578\n",
            "Epoch 20/20\n",
            "1844/1844 [==============================] - 9s 5ms/step - loss: 0.2846 - accuracy: 0.1580 - val_loss: 0.2831 - val_accuracy: 0.1609\n"
          ]
        }
      ]
    },
    {
      "cell_type": "code",
      "source": [
        "# Clone the trained encoder\n",
        "denoising_encoder_clone = keras.models.clone_model(denoising_encoder)\n",
        "# Freeze the weights\n",
        "denoising_encoder_clone.trainable = False\n",
        "\n",
        "# Classifier\n",
        "classifier = keras.models.Sequential([\n",
        "    keras.layers.Flatten(),\n",
        "    keras.layers.Dense(30, activation=\"selu\"),\n",
        "    keras.layers.Dense(10, activation=\"softmax\")\n",
        "])\n",
        "\n",
        "# Model 2\n",
        "model2 = keras.models.Sequential([denoising_encoder_clone, classifier])\n",
        "\n",
        "# Compile and fit\n",
        "model2.compile(loss=\"sparse_categorical_crossentropy\", optimizer=keras.optimizers.SGD(lr=0.02), metrics=[\"accuracy\"])\n",
        "history2 = model2.fit(X_train_2, y_train_2, epochs=20, validation_data=(X_valid, y_valid))"
      ],
      "metadata": {
        "colab": {
          "base_uri": "https://localhost:8080/",
          "height": 0
        },
        "id": "7v0eaiapCNKS",
        "outputId": "39e44f52-99e9-4c4d-d0be-0d5b8f4ae4ac"
      },
      "execution_count": 38,
      "outputs": [
        {
          "output_type": "stream",
          "name": "stdout",
          "text": [
            "Epoch 1/20\n"
          ]
        },
        {
          "output_type": "stream",
          "name": "stderr",
          "text": [
            "/usr/local/lib/python3.7/dist-packages/keras/optimizer_v2/gradient_descent.py:102: UserWarning: The `lr` argument is deprecated, use `learning_rate` instead.\n",
            "  super(SGD, self).__init__(name, **kwargs)\n"
          ]
        },
        {
          "output_type": "stream",
          "name": "stdout",
          "text": [
            "32/32 [==============================] - 1s 30ms/step - loss: 2.5622 - accuracy: 0.1550 - val_loss: 2.1603 - val_accuracy: 0.2104\n",
            "Epoch 2/20\n",
            "32/32 [==============================] - 1s 24ms/step - loss: 2.0897 - accuracy: 0.2700 - val_loss: 1.8847 - val_accuracy: 0.3428\n",
            "Epoch 3/20\n",
            "32/32 [==============================] - 1s 25ms/step - loss: 1.8389 - accuracy: 0.3440 - val_loss: 1.6933 - val_accuracy: 0.3935\n",
            "Epoch 4/20\n",
            "32/32 [==============================] - 1s 24ms/step - loss: 1.7061 - accuracy: 0.3850 - val_loss: 1.5471 - val_accuracy: 0.4446\n",
            "Epoch 5/20\n",
            "32/32 [==============================] - 1s 24ms/step - loss: 1.5765 - accuracy: 0.4520 - val_loss: 1.4341 - val_accuracy: 0.5193\n",
            "Epoch 6/20\n",
            "32/32 [==============================] - 1s 44ms/step - loss: 1.4835 - accuracy: 0.4790 - val_loss: 1.3466 - val_accuracy: 0.5611\n",
            "Epoch 7/20\n",
            "32/32 [==============================] - 1s 45ms/step - loss: 1.4280 - accuracy: 0.4910 - val_loss: 1.2828 - val_accuracy: 0.5697\n",
            "Epoch 8/20\n",
            "32/32 [==============================] - 1s 24ms/step - loss: 1.3373 - accuracy: 0.5350 - val_loss: 1.2387 - val_accuracy: 0.5800\n",
            "Epoch 9/20\n",
            "32/32 [==============================] - 1s 45ms/step - loss: 1.3144 - accuracy: 0.5320 - val_loss: 1.1982 - val_accuracy: 0.5968\n",
            "Epoch 10/20\n",
            "32/32 [==============================] - 1s 44ms/step - loss: 1.2578 - accuracy: 0.5600 - val_loss: 1.1537 - val_accuracy: 0.6118\n",
            "Epoch 11/20\n",
            "32/32 [==============================] - 1s 24ms/step - loss: 1.2532 - accuracy: 0.5410 - val_loss: 1.1253 - val_accuracy: 0.6204\n",
            "Epoch 12/20\n",
            "32/32 [==============================] - 1s 24ms/step - loss: 1.2117 - accuracy: 0.5590 - val_loss: 1.1055 - val_accuracy: 0.6229\n",
            "Epoch 13/20\n",
            "32/32 [==============================] - 1s 25ms/step - loss: 1.2063 - accuracy: 0.5520 - val_loss: 1.0886 - val_accuracy: 0.6250\n",
            "Epoch 14/20\n",
            "32/32 [==============================] - 1s 24ms/step - loss: 1.1926 - accuracy: 0.5430 - val_loss: 1.0733 - val_accuracy: 0.6274\n",
            "Epoch 15/20\n",
            "32/32 [==============================] - 1s 24ms/step - loss: 1.1818 - accuracy: 0.5740 - val_loss: 1.0535 - val_accuracy: 0.6333\n",
            "Epoch 16/20\n",
            "32/32 [==============================] - 1s 24ms/step - loss: 1.1519 - accuracy: 0.5770 - val_loss: 1.0341 - val_accuracy: 0.6410\n",
            "Epoch 17/20\n",
            "32/32 [==============================] - 1s 24ms/step - loss: 1.1395 - accuracy: 0.5940 - val_loss: 1.0229 - val_accuracy: 0.6398\n",
            "Epoch 18/20\n",
            "32/32 [==============================] - 1s 44ms/step - loss: 1.1219 - accuracy: 0.5870 - val_loss: 1.0065 - val_accuracy: 0.6512\n",
            "Epoch 19/20\n",
            "32/32 [==============================] - 1s 26ms/step - loss: 1.1081 - accuracy: 0.5840 - val_loss: 0.9988 - val_accuracy: 0.6521\n",
            "Epoch 20/20\n",
            "32/32 [==============================] - 1s 25ms/step - loss: 1.0922 - accuracy: 0.5990 - val_loss: 0.9854 - val_accuracy: 0.6519\n"
          ]
        }
      ]
    },
    {
      "cell_type": "code",
      "source": [
        "# Plot the results\n",
        "import pandas as pd\n",
        "pd.DataFrame(history2.history).plot()\n",
        "plt.show()"
      ],
      "metadata": {
        "colab": {
          "base_uri": "https://localhost:8080/",
          "height": 265
        },
        "id": "wX9o5PuGJvCB",
        "outputId": "b073eb56-51ce-46fb-96d0-2c475dffb8e8"
      },
      "execution_count": 39,
      "outputs": [
        {
          "output_type": "display_data",
          "data": {
            "text/plain": [
              "<Figure size 432x288 with 1 Axes>"
            ],
            "image/png": "[encoded data removed]"
          },
          "metadata": {
            "needs_background": "light"
          }
        }
      ]
    },
    {
      "cell_type": "code",
      "source": [
        "# Build the encoder again\n",
        "untrained_denoising_encoder_clone = keras.models.Sequential([\n",
        "    keras.layers.Flatten(input_shape=[28, 28]),\n",
        "    keras.layers.GaussianNoise(0.2),           # stddev = 0.2\n",
        "    keras.layers.Dense(100, activation=\"selu\"),\n",
        "    keras.layers.Dense(30, activation=\"selu\")\n",
        "])\n",
        "\n",
        "# Freeze the weights\n",
        "untrained_denoising_encoder_clone.trainable = False\n",
        "\n",
        "# Classifier\n",
        "classifier2 = keras.models.Sequential([\n",
        "    keras.layers.Flatten(),\n",
        "    keras.layers.Dense(30, activation=\"selu\"),\n",
        "    keras.layers.Dense(10, activation=\"softmax\")\n",
        "])\n",
        "\n",
        "# Model 3\n",
        "model3 = keras.models.Sequential([untrained_denoising_encoder_clone, classifier2])\n",
        "\n",
        "# Compile and fit\n",
        "model3.compile(loss=\"sparse_categorical_crossentropy\", optimizer=keras.optimizers.SGD(lr=0.02), metrics=[\"accuracy\"])\n",
        "history3 = model3.fit(X_train_2, y_train_2, epochs=20, validation_data=(X_valid, y_valid))"
      ],
      "metadata": {
        "colab": {
          "base_uri": "https://localhost:8080/",
          "height": 0
        },
        "id": "r3blJKgRHY_j",
        "outputId": "dc5e4d8b-488c-4be2-b9f3-31e5c09e965e"
      },
      "execution_count": 40,
      "outputs": [
        {
          "output_type": "stream",
          "name": "stdout",
          "text": [
            "Epoch 1/20\n"
          ]
        },
        {
          "output_type": "stream",
          "name": "stderr",
          "text": [
            "/usr/local/lib/python3.7/dist-packages/keras/optimizer_v2/gradient_descent.py:102: UserWarning: The `lr` argument is deprecated, use `learning_rate` instead.\n",
            "  super(SGD, self).__init__(name, **kwargs)\n"
          ]
        },
        {
          "output_type": "stream",
          "name": "stdout",
          "text": [
            "32/32 [==============================] - 2s 39ms/step - loss: 2.3199 - accuracy: 0.1760 - val_loss: 2.0649 - val_accuracy: 0.3115\n",
            "Epoch 2/20\n",
            "32/32 [==============================] - 1s 45ms/step - loss: 1.9837 - accuracy: 0.2950 - val_loss: 1.7953 - val_accuracy: 0.4115\n",
            "Epoch 3/20\n",
            "32/32 [==============================] - 1s 45ms/step - loss: 1.7693 - accuracy: 0.3800 - val_loss: 1.6071 - val_accuracy: 0.4804\n",
            "Epoch 4/20\n",
            "32/32 [==============================] - 1s 24ms/step - loss: 1.6259 - accuracy: 0.4380 - val_loss: 1.4724 - val_accuracy: 0.5260\n",
            "Epoch 5/20\n",
            "32/32 [==============================] - 1s 44ms/step - loss: 1.5157 - accuracy: 0.4790 - val_loss: 1.3748 - val_accuracy: 0.5402\n",
            "Epoch 6/20\n",
            "32/32 [==============================] - 1s 24ms/step - loss: 1.4185 - accuracy: 0.5200 - val_loss: 1.2986 - val_accuracy: 0.5830\n",
            "Epoch 7/20\n",
            "32/32 [==============================] - 1s 23ms/step - loss: 1.3402 - accuracy: 0.5300 - val_loss: 1.2409 - val_accuracy: 0.5851\n",
            "Epoch 8/20\n",
            "32/32 [==============================] - 1s 23ms/step - loss: 1.3022 - accuracy: 0.5530 - val_loss: 1.1980 - val_accuracy: 0.5953\n",
            "Epoch 9/20\n",
            "32/32 [==============================] - 1s 24ms/step - loss: 1.2496 - accuracy: 0.5430 - val_loss: 1.1770 - val_accuracy: 0.5963\n",
            "Epoch 10/20\n",
            "32/32 [==============================] - 1s 23ms/step - loss: 1.2424 - accuracy: 0.5520 - val_loss: 1.1304 - val_accuracy: 0.6132\n",
            "Epoch 11/20\n",
            "32/32 [==============================] - 1s 44ms/step - loss: 1.1933 - accuracy: 0.5830 - val_loss: 1.1059 - val_accuracy: 0.6191\n",
            "Epoch 12/20\n",
            "32/32 [==============================] - 1s 24ms/step - loss: 1.1964 - accuracy: 0.5660 - val_loss: 1.0868 - val_accuracy: 0.6191\n",
            "Epoch 13/20\n",
            "32/32 [==============================] - 1s 25ms/step - loss: 1.1443 - accuracy: 0.5940 - val_loss: 1.0677 - val_accuracy: 0.6307\n",
            "Epoch 14/20\n",
            "32/32 [==============================] - 1s 24ms/step - loss: 1.1256 - accuracy: 0.5930 - val_loss: 1.0565 - val_accuracy: 0.6268\n",
            "Epoch 15/20\n",
            "32/32 [==============================] - 1s 24ms/step - loss: 1.1126 - accuracy: 0.6160 - val_loss: 1.0379 - val_accuracy: 0.6361\n",
            "Epoch 16/20\n",
            "32/32 [==============================] - 1s 23ms/step - loss: 1.1088 - accuracy: 0.5990 - val_loss: 1.0253 - val_accuracy: 0.6420\n",
            "Epoch 17/20\n",
            "32/32 [==============================] - 1s 44ms/step - loss: 1.0602 - accuracy: 0.6200 - val_loss: 1.0096 - val_accuracy: 0.6429\n",
            "Epoch 18/20\n",
            "32/32 [==============================] - 1s 45ms/step - loss: 1.0781 - accuracy: 0.6160 - val_loss: 0.9997 - val_accuracy: 0.6449\n",
            "Epoch 19/20\n",
            "32/32 [==============================] - 1s 24ms/step - loss: 1.0944 - accuracy: 0.5910 - val_loss: 0.9904 - val_accuracy: 0.6487\n",
            "Epoch 20/20\n",
            "32/32 [==============================] - 1s 23ms/step - loss: 1.0676 - accuracy: 0.5940 - val_loss: 0.9844 - val_accuracy: 0.6531\n"
          ]
        }
      ]
    },
    {
      "cell_type": "code",
      "source": [
        "# Plot the results\n",
        "pd.DataFrame(history3.history).plot()\n",
        "plt.show()"
      ],
      "metadata": {
        "colab": {
          "base_uri": "https://localhost:8080/",
          "height": 265
        },
        "id": "yCYwQSyBKK_t",
        "outputId": "65cdbd30-3771-41ea-c0e2-88ecb4ea8918"
      },
      "execution_count": 41,
      "outputs": [
        {
          "output_type": "display_data",
          "data": {
            "text/plain": [
              "<Figure size 432x288 with 1 Axes>"
            ],
            "image/png": "[encoded data removed]"
          },
          "metadata": {
            "needs_background": "light"
          }
        }
      ]
    },
    {
      "cell_type": "code",
      "source": [
        "# Question 7:\n",
        "# The results of model 2 and model 3 are not much different. \n",
        "# It's surprising  because I expected model 2 to perform better since it has the trained weights on 59000 images which helps it learned the features of the dataset and works like\n",
        "# a transfer learning approach.\n",
        "# I guess that the reason is the images are too simple (Only 28*28), so it's easy for a simple model like model 3 to catch up with a complicated model like model 2.\n",
        "# Another reason maybe the number of traning epochs of the autoencoder is too few (Only 20 epochs), so the encoder hasn't learned much features of the dataset. Increasing the number \n",
        "# of training epochs of the autoencoder may help model 2 to perform better."
      ],
      "metadata": {
        "id": "4B8WI19bOAyf"
      },
      "execution_count": null,
      "outputs": []
    }
  ]
}